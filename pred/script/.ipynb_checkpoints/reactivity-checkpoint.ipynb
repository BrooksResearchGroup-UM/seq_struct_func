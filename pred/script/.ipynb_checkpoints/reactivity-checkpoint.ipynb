{
 "cells": [
  {
   "cell_type": "code",
   "execution_count": 1,
   "id": "d4e96b63-908b-4d12-9938-3c2dd9d3e0a4",
   "metadata": {},
   "outputs": [],
   "source": [
    "#Predict reactivity of a protein-ligand complex\n",
    "#Before running, download pafnucyresults directory into pred/script/pafnucy/\n",
    "    #https://gitlab.com/cheminfIBB/pafnucy/-/tree/master/results \n",
    "import os\n",
    "import sys\n",
    "import pandas as pd\n",
    "import numpy as np\n",
    "import pickle\n",
    "from openbabel import pybel"
   ]
  },
  {
   "cell_type": "code",
   "execution_count": 2,
   "id": "b7b8b0e3-725b-4313-9cdb-66c3c81f4d4d",
   "metadata": {},
   "outputs": [],
   "source": [
    "#Arguments\n",
    "protein = 'tropb'\n",
    "ligand = '2'\n",
    "pdb_with_fad_path = f'../../cofactor/pdb_with_fad/{protein}_fad.pdb'\n",
    "dockdir = f'../../dock/poses/{protein}_{ligand}_prot'\n",
    "stereo_df = pd.read_excel(f'../stereo/{protein}_{ligand}_stereo.xlsx', header = 0, index_col = 0)"
   ]
  },
  {
   "cell_type": "code",
   "execution_count": 3,
   "id": "5c281bc7-da87-4ed4-8c9c-cd79a5df6cb6",
   "metadata": {},
   "outputs": [
    {
     "data": {
      "text/html": [
       "<table class=\"simpletable\">\n",
       "<tr>\n",
       "        <td>Model:</td>              <td>Logit</td>      <td>Pseudo R-squared:</td>    <td>0.237</td>  \n",
       "</tr>\n",
       "<tr>\n",
       "  <td>Dependent Variable:</td>    <td>Conversion</td>          <td>AIC:</td>          <td>77.9609</td> \n",
       "</tr>\n",
       "<tr>\n",
       "         <td>Date:</td>        <td>2023-06-22 21:52</td>       <td>BIC:</td>          <td>86.7796</td> \n",
       "</tr>\n",
       "<tr>\n",
       "   <td>No. Observations:</td>         <td>67</td>         <td>Log-Likelihood:</td>    <td>-34.980</td> \n",
       "</tr>\n",
       "<tr>\n",
       "       <td>Df Model:</td>              <td>3</td>            <td>LL-Null:</td>        <td>-45.835</td> \n",
       "</tr>\n",
       "<tr>\n",
       "     <td>Df Residuals:</td>           <td>63</td>          <td>LLR p-value:</td>    <td>7.5015e-05</td>\n",
       "</tr>\n",
       "<tr>\n",
       "      <td>Converged:</td>           <td>1.0000</td>           <td>Scale:</td>         <td>1.0000</td>  \n",
       "</tr>\n",
       "<tr>\n",
       "    <td>No. Iterations:</td>        <td>6.0000</td>              <td></td>               <td></td>     \n",
       "</tr>\n",
       "</table>\n",
       "<table class=\"simpletable\">\n",
       "<tr>\n",
       "                <td></td>                  <th>Coef.</th>  <th>Std.Err.</th>    <th>z</th>     <th>P>|z|</th>  <th>[0.025</th>  <th>0.975]</th> \n",
       "</tr>\n",
       "<tr>\n",
       "  <th>Avg Fad Angle</th>                  <td>0.1035</td>   <td>0.0433</td>  <td>2.3933</td>  <td>0.0167</td>  <td>0.0187</td>  <td>0.1883</td> \n",
       "</tr>\n",
       "<tr>\n",
       "  <th>Avg Anion Dist</th>                 <td>-0.4565</td>  <td>0.1990</td>  <td>-2.2933</td> <td>0.0218</td>  <td>-0.8466</td> <td>-0.0664</td>\n",
       "</tr>\n",
       "<tr>\n",
       "  <th>Avg Docking Energy Efficiency</th>  <td>-1.3699</td>  <td>0.3893</td>  <td>-3.5192</td> <td>0.0004</td>  <td>-2.1328</td> <td>-0.6070</td>\n",
       "</tr>\n",
       "<tr>\n",
       "  <th>Avg Pafnucy pKa Efficiency</th>    <td>-16.6168</td>  <td>5.4882</td>  <td>-3.0277</td> <td>0.0025</td> <td>-27.3734</td> <td>-5.8601</td>\n",
       "</tr>\n",
       "</table>"
      ],
      "text/plain": [
       "<class 'statsmodels.iolib.summary2.Summary'>\n",
       "\"\"\"\n",
       "                                Results: Logit\n",
       "===============================================================================\n",
       "Model:                    Logit                Pseudo R-squared:     0.237     \n",
       "Dependent Variable:       Conversion           AIC:                  77.9609   \n",
       "Date:                     2023-06-22 21:52     BIC:                  86.7796   \n",
       "No. Observations:         67                   Log-Likelihood:       -34.980   \n",
       "Df Model:                 3                    LL-Null:              -45.835   \n",
       "Df Residuals:             63                   LLR p-value:          7.5015e-05\n",
       "Converged:                1.0000               Scale:                1.0000    \n",
       "No. Iterations:           6.0000                                               \n",
       "-------------------------------------------------------------------------------\n",
       "                               Coef.   Std.Err.    z    P>|z|   [0.025   0.975]\n",
       "-------------------------------------------------------------------------------\n",
       "Avg Fad Angle                   0.1035   0.0433  2.3933 0.0167   0.0187  0.1883\n",
       "Avg Anion Dist                 -0.4565   0.1990 -2.2933 0.0218  -0.8466 -0.0664\n",
       "Avg Docking Energy Efficiency  -1.3699   0.3893 -3.5192 0.0004  -2.1328 -0.6070\n",
       "Avg Pafnucy pKa Efficiency    -16.6168   5.4882 -3.0277 0.0025 -27.3734 -5.8601\n",
       "===============================================================================\n",
       "\n",
       "\"\"\""
      ]
     },
     "execution_count": 3,
     "metadata": {},
     "output_type": "execute_result"
    }
   ],
   "source": [
    "#Read trained logistic regressor model for consensus reactivity\n",
    "log_reg = pickle.load(open(f'../../si_data/log_reg_models/prot_0.75_fftdock_3_logreg.pkl', 'rb'))\n",
    "log_reg.summary2()"
   ]
  },
  {
   "cell_type": "code",
   "execution_count": 4,
   "id": "b414c2bf-44b2-4d79-bd3a-ced813cdd899",
   "metadata": {},
   "outputs": [
    {
     "data": {
      "text/html": [
       "<div>\n",
       "<style scoped>\n",
       "    .dataframe tbody tr th:only-of-type {\n",
       "        vertical-align: middle;\n",
       "    }\n",
       "\n",
       "    .dataframe tbody tr th {\n",
       "        vertical-align: top;\n",
       "    }\n",
       "\n",
       "    .dataframe thead th {\n",
       "        text-align: right;\n",
       "    }\n",
       "</style>\n",
       "<table border=\"1\" class=\"dataframe\">\n",
       "  <thead>\n",
       "    <tr style=\"text-align: right;\">\n",
       "      <th></th>\n",
       "      <th>cluster</th>\n",
       "      <th>size</th>\n",
       "      <th>min_ener</th>\n",
       "      <th>min_index</th>\n",
       "      <th>average energy</th>\n",
       "      <th>std energy</th>\n",
       "      <th>stereo</th>\n",
       "      <th>angle</th>\n",
       "      <th>dist_to_fad</th>\n",
       "      <th>anion_dist</th>\n",
       "    </tr>\n",
       "  </thead>\n",
       "  <tbody>\n",
       "    <tr>\n",
       "      <th>0</th>\n",
       "      <td>['111', '163', '166', '184', '195', '204', '20...</td>\n",
       "      <td>24</td>\n",
       "      <td>-48.82</td>\n",
       "      <td>393</td>\n",
       "      <td>-21.16</td>\n",
       "      <td>15.30</td>\n",
       "      <td>R</td>\n",
       "      <td>112.09</td>\n",
       "      <td>5.325232</td>\n",
       "      <td>4.753537</td>\n",
       "    </tr>\n",
       "    <tr>\n",
       "      <th>1</th>\n",
       "      <td>['126', '12', '143', '145', '162', '164', '167...</td>\n",
       "      <td>31</td>\n",
       "      <td>-46.75</td>\n",
       "      <td>126</td>\n",
       "      <td>-14.53</td>\n",
       "      <td>20.26</td>\n",
       "      <td>R</td>\n",
       "      <td>123.89</td>\n",
       "      <td>4.730958</td>\n",
       "      <td>3.206388</td>\n",
       "    </tr>\n",
       "    <tr>\n",
       "      <th>2</th>\n",
       "      <td>['312', '313', '315', '332', '369', '394', '41...</td>\n",
       "      <td>9</td>\n",
       "      <td>-34.46</td>\n",
       "      <td>332</td>\n",
       "      <td>-13.83</td>\n",
       "      <td>10.85</td>\n",
       "      <td>R</td>\n",
       "      <td>112.22</td>\n",
       "      <td>5.447691</td>\n",
       "      <td>4.523740</td>\n",
       "    </tr>\n",
       "    <tr>\n",
       "      <th>3</th>\n",
       "      <td>['336', '439', '475', '494', '4']</td>\n",
       "      <td>5</td>\n",
       "      <td>-34.36</td>\n",
       "      <td>439</td>\n",
       "      <td>0.03</td>\n",
       "      <td>26.77</td>\n",
       "      <td>R</td>\n",
       "      <td>112.24</td>\n",
       "      <td>5.139110</td>\n",
       "      <td>6.293001</td>\n",
       "    </tr>\n",
       "    <tr>\n",
       "      <th>4</th>\n",
       "      <td>['176', '196', '211', '242', '260', '305', '32...</td>\n",
       "      <td>13</td>\n",
       "      <td>-34.10</td>\n",
       "      <td>43</td>\n",
       "      <td>-9.24</td>\n",
       "      <td>17.13</td>\n",
       "      <td>R</td>\n",
       "      <td>108.37</td>\n",
       "      <td>5.428219</td>\n",
       "      <td>4.594740</td>\n",
       "    </tr>\n",
       "    <tr>\n",
       "      <th>...</th>\n",
       "      <td>...</td>\n",
       "      <td>...</td>\n",
       "      <td>...</td>\n",
       "      <td>...</td>\n",
       "      <td>...</td>\n",
       "      <td>...</td>\n",
       "      <td>...</td>\n",
       "      <td>...</td>\n",
       "      <td>...</td>\n",
       "      <td>...</td>\n",
       "    </tr>\n",
       "    <tr>\n",
       "      <th>111</th>\n",
       "      <td>['89']</td>\n",
       "      <td>1</td>\n",
       "      <td>3978.67</td>\n",
       "      <td>89</td>\n",
       "      <td>3978.67</td>\n",
       "      <td>0.00</td>\n",
       "      <td>R</td>\n",
       "      <td>147.91</td>\n",
       "      <td>1.794970</td>\n",
       "      <td>8.960428</td>\n",
       "    </tr>\n",
       "    <tr>\n",
       "      <th>112</th>\n",
       "      <td>['117', '187', '188', '339']</td>\n",
       "      <td>4</td>\n",
       "      <td>4040.28</td>\n",
       "      <td>339</td>\n",
       "      <td>5395.06</td>\n",
       "      <td>782.18</td>\n",
       "      <td>S</td>\n",
       "      <td>44.69</td>\n",
       "      <td>2.228024</td>\n",
       "      <td>8.942702</td>\n",
       "    </tr>\n",
       "    <tr>\n",
       "      <th>113</th>\n",
       "      <td>['250']</td>\n",
       "      <td>1</td>\n",
       "      <td>4167.34</td>\n",
       "      <td>250</td>\n",
       "      <td>4167.34</td>\n",
       "      <td>0.00</td>\n",
       "      <td>S</td>\n",
       "      <td>47.91</td>\n",
       "      <td>2.102161</td>\n",
       "      <td>8.951274</td>\n",
       "    </tr>\n",
       "    <tr>\n",
       "      <th>114</th>\n",
       "      <td>['218', '326', '346', '414', '461', '480']</td>\n",
       "      <td>6</td>\n",
       "      <td>5343.16</td>\n",
       "      <td>218</td>\n",
       "      <td>6392.52</td>\n",
       "      <td>1155.64</td>\n",
       "      <td>S</td>\n",
       "      <td>47.95</td>\n",
       "      <td>2.630860</td>\n",
       "      <td>7.727614</td>\n",
       "    </tr>\n",
       "    <tr>\n",
       "      <th>115</th>\n",
       "      <td>['138']</td>\n",
       "      <td>1</td>\n",
       "      <td>5989.16</td>\n",
       "      <td>138</td>\n",
       "      <td>5989.16</td>\n",
       "      <td>0.00</td>\n",
       "      <td>S</td>\n",
       "      <td>33.32</td>\n",
       "      <td>1.741672</td>\n",
       "      <td>9.018954</td>\n",
       "    </tr>\n",
       "  </tbody>\n",
       "</table>\n",
       "<p>116 rows × 10 columns</p>\n",
       "</div>"
      ],
      "text/plain": [
       "                                               cluster  size  min_ener  \\\n",
       "0    ['111', '163', '166', '184', '195', '204', '20...    24    -48.82   \n",
       "1    ['126', '12', '143', '145', '162', '164', '167...    31    -46.75   \n",
       "2    ['312', '313', '315', '332', '369', '394', '41...     9    -34.46   \n",
       "3                    ['336', '439', '475', '494', '4']     5    -34.36   \n",
       "4    ['176', '196', '211', '242', '260', '305', '32...    13    -34.10   \n",
       "..                                                 ...   ...       ...   \n",
       "111                                             ['89']     1   3978.67   \n",
       "112                       ['117', '187', '188', '339']     4   4040.28   \n",
       "113                                            ['250']     1   4167.34   \n",
       "114         ['218', '326', '346', '414', '461', '480']     6   5343.16   \n",
       "115                                            ['138']     1   5989.16   \n",
       "\n",
       "     min_index  average energy  std energy stereo   angle  dist_to_fad  \\\n",
       "0          393          -21.16       15.30      R  112.09     5.325232   \n",
       "1          126          -14.53       20.26      R  123.89     4.730958   \n",
       "2          332          -13.83       10.85      R  112.22     5.447691   \n",
       "3          439            0.03       26.77      R  112.24     5.139110   \n",
       "4           43           -9.24       17.13      R  108.37     5.428219   \n",
       "..         ...             ...         ...    ...     ...          ...   \n",
       "111         89         3978.67        0.00      R  147.91     1.794970   \n",
       "112        339         5395.06      782.18      S   44.69     2.228024   \n",
       "113        250         4167.34        0.00      S   47.91     2.102161   \n",
       "114        218         6392.52     1155.64      S   47.95     2.630860   \n",
       "115        138         5989.16        0.00      S   33.32     1.741672   \n",
       "\n",
       "     anion_dist  \n",
       "0      4.753537  \n",
       "1      3.206388  \n",
       "2      4.523740  \n",
       "3      6.293001  \n",
       "4      4.594740  \n",
       "..          ...  \n",
       "111    8.960428  \n",
       "112    8.942702  \n",
       "113    8.951274  \n",
       "114    7.727614  \n",
       "115    9.018954  \n",
       "\n",
       "[116 rows x 10 columns]"
      ]
     },
     "execution_count": 4,
     "metadata": {},
     "output_type": "execute_result"
    }
   ],
   "source": [
    "#Angle, anion dist and docking energy from stereochemistry analysis of cluster df\n",
    "stereo_df"
   ]
  },
  {
   "cell_type": "code",
   "execution_count": 5,
   "id": "d6b5e276-5945-4b4d-ae28-7ebab8bea4e5",
   "metadata": {},
   "outputs": [],
   "source": [
    "#Get predicted pKd from Pafnucy\n",
    "#Use top docked pose for protein-ligand complex\n",
    "top_index = stereo_df['min_index'].iloc[0]\n",
    "top_pose_path = os.path.join(dockdir, f'{protein}_{ligand}_{top_index}.pdb')"
   ]
  },
  {
   "cell_type": "code",
   "execution_count": 6,
   "id": "247cc5b6-0431-470b-ac67-086275b198ad",
   "metadata": {
    "tags": []
   },
   "outputs": [
    {
     "name": "stdout",
     "output_type": "stream",
     "text": [
      "1 ligands and 1 pockets to prepare:\n",
      " pocket: /home/azamh/demo/seq_struct_func/cofactor/pdb_with_fad/tropb_fad.pdb\n",
      " ligand: /home/azamh/demo/seq_struct_func/dock/poses/tropb_2_prot/tropb_2_393.pdb\n",
      "\n",
      "\n",
      "\n",
      "reading /home/azamh/demo/seq_struct_func/dock/poses/tropb_2_prot/tropb_2_393.pdb\n",
      "\n",
      "\n",
      "created /home/azamh/demo/seq_struct_func/pred/pafnucy/tropb_2.hdf with 1 structures\n"
     ]
    },
    {
     "data": {
      "text/plain": [
       "0"
      ]
     },
     "execution_count": 6,
     "metadata": {},
     "output_type": "execute_result"
    }
   ],
   "source": [
    "#Prepare protein ligand complex\n",
    "complex_file = f'../pafnucy/{protein}_{ligand}.hdf'\n",
    "prepare_cmd = f'{sys.executable} ./pafnucy/prepare.py -l {top_pose_path} --ligand_format pdb ' + \\\n",
    "f'-p {pdb_with_fad_path} --pocket_format pdb -o {complex_file}'\n",
    "os.system(prepare_cmd)"
   ]
  },
  {
   "cell_type": "code",
   "execution_count": 7,
   "id": "e1840561-5fb3-4d4b-a9e7-105ce5a0e4ef",
   "metadata": {},
   "outputs": [
    {
     "name": "stderr",
     "output_type": "stream",
     "text": [
      "WARNING:tensorflow:From /home/azamh/miniconda3/envs/seq_struct_func/lib/python3.9/site-packages/tensorflow/python/compat/v2_compat.py:96: disable_resource_variables (from tensorflow.python.ops.variable_scope) is deprecated and will be removed in a future version.\n",
      "Instructions for updating:\n",
      "non-resource variables are not supported in the long term\n",
      "2023-06-22 21:52:50.508577: I tensorflow/compiler/jit/xla_cpu_device.cc:41] Not creating XLA devices, tf_xla_enable_xla_devices not set\n",
      "2023-06-22 21:52:50.508849: I tensorflow/core/platform/cpu_feature_guard.cc:142] This TensorFlow binary is optimized with oneAPI Deep Neural Network Library (oneDNN) to use the following CPU instructions in performance-critical operations:  SSE4.1 SSE4.2 AVX AVX2 FMA\n",
      "To enable them in other operations, rebuild TensorFlow with the appropriate compiler flags.\n",
      "2023-06-22 21:52:50.509123: I tensorflow/core/common_runtime/process_util.cc:146] Creating new thread pool with default inter op setting: 2. Tune using inter_op_parallelism_threads for best performance.\n",
      "2023-06-22 21:52:50.519814: I tensorflow/compiler/mlir/mlir_graph_optimization_pass.cc:196] None of the MLIR optimization passes are enabled (registered 0 passes)\n",
      "2023-06-22 21:52:50.530761: I tensorflow/core/platform/profile_utils/cpu_utils.cc:112] CPU Frequency: 2300035000 Hz\n"
     ]
    },
    {
     "name": "stdout",
     "output_type": "stream",
     "text": [
      "loaded 1 complexes\n",
      "\n",
      "restored network from /home/azamh/demo/seq_struct_func/pred/script/pafnucy/results/batch5-2017-06-05T07:58:47-best\n",
      "\n",
      "20 samples per batch\n",
      "\n",
      "results saved to /home/azamh/demo/seq_struct_func/pred/pafnucy/tropb_2.csv\n"
     ]
    },
    {
     "data": {
      "text/plain": [
       "0"
      ]
     },
     "execution_count": 7,
     "metadata": {},
     "output_type": "execute_result"
    }
   ],
   "source": [
    "#Predict with trained CNN\n",
    "prediction_file = f'../pafnucy/{protein}_{ligand}.csv'\n",
    "network = './pafnucy/results/batch5-2017-06-05T07:58:47-best'\n",
    "predict_cmd = f'{sys.executable} ./pafnucy/predict.py -i {complex_file} -n {network} -o {prediction_file}'\n",
    "os.system(predict_cmd)"
   ]
  },
  {
   "cell_type": "code",
   "execution_count": 8,
   "id": "a7abb1db-1686-49bf-96ca-971704926828",
   "metadata": {},
   "outputs": [
    {
     "data": {
      "text/plain": [
       "6.2573767"
      ]
     },
     "execution_count": 8,
     "metadata": {},
     "output_type": "execute_result"
    }
   ],
   "source": [
    "pred_pkd = pd.read_csv(prediction_file, header = 0, index_col = 0)['prediction'].iloc[0]\n",
    "pred_pkd"
   ]
  },
  {
   "cell_type": "code",
   "execution_count": 9,
   "id": "55a7fc9e-50bd-40ef-92bd-5b3c9846eaad",
   "metadata": {},
   "outputs": [
    {
     "name": "stdout",
     "output_type": "stream",
     "text": [
      "dock_energy_efficiency -2.8717647058823528 kcal/mol/HA\n",
      "angle 67.91 degrees\n",
      "anion_dist 4.753537209279002 angstrom\n",
      "pred_pkd_efficiency 0.3680809823529412 1/HA\n"
     ]
    }
   ],
   "source": [
    "#Process values for logistic regression model\n",
    "\n",
    "#Dictionary for ligand heavy atom counts:\n",
    "ha_dict = {'2':17, '3':18, '4':17, '5':14}\n",
    "\n",
    "#Read in pose geometric information from stereo_df\n",
    "top_cluster = stereo_df.iloc[0]\n",
    "dock_energy = top_cluster['min_ener']\n",
    "angle = top_cluster['angle']\n",
    "if angle > 90:\n",
    "    angle = 180 - angle\n",
    "anion_dist = top_cluster['anion_dist']\n",
    "\n",
    "#Rescale by heavy atom counts for pkd and dock energy\n",
    "dock_energy_efficiency = dock_energy / ha_dict[ligand]\n",
    "pred_pkd_efficiency = pred_pkd / ha_dict[ligand]\n",
    "\n",
    "print('dock_energy_efficiency', dock_energy_efficiency, 'kcal/mol/HA')\n",
    "print('angle', angle, 'degrees')\n",
    "print('anion_dist', anion_dist, 'angstrom')\n",
    "print('pred_pkd_efficiency', pred_pkd_efficiency, '1/HA')"
   ]
  },
  {
   "cell_type": "code",
   "execution_count": 10,
   "id": "64ade05d-e100-4961-a76c-2fd0f1c120d3",
   "metadata": {},
   "outputs": [
    {
     "data": {
      "text/plain": [
       "array([0.9357557])"
      ]
     },
     "execution_count": 10,
     "metadata": {},
     "output_type": "execute_result"
    }
   ],
   "source": [
    "#Predict with logistic regression model: 0 -> unreactive, 1 -> reactive\n",
    "log_reg.predict([angle, anion_dist, dock_energy_efficiency, pred_pkd_efficiency])"
   ]
  }
 ],
 "metadata": {
  "kernelspec": {
   "display_name": "seq_struct_func",
   "language": "python",
   "name": "seq_struct_func"
  },
  "language_info": {
   "codemirror_mode": {
    "name": "ipython",
    "version": 3
   },
   "file_extension": ".py",
   "mimetype": "text/x-python",
   "name": "python",
   "nbconvert_exporter": "python",
   "pygments_lexer": "ipython3",
   "version": "3.9.16"
  }
 },
 "nbformat": 4,
 "nbformat_minor": 5
}
