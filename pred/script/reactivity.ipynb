{
 "cells": [
  {
   "cell_type": "code",
   "execution_count": 1,
   "id": "d4e96b63-908b-4d12-9938-3c2dd9d3e0a4",
   "metadata": {},
   "outputs": [],
   "source": [
    "#Predict reactivity of a protein-ligand complex\n",
    "#Before running, download results directory into pred/script/pafnucy/\n",
    "    #https://gitlab.com/cheminfIBB/pafnucy/-/tree/master/results \n",
    "import os\n",
    "import sys\n",
    "import pandas as pd\n",
    "import numpy as np\n",
    "import pickle\n",
    "from openbabel import pybel"
   ]
  },
  {
   "cell_type": "code",
   "execution_count": 2,
   "id": "b7b8b0e3-725b-4313-9cdb-66c3c81f4d4d",
   "metadata": {},
   "outputs": [],
   "source": [
    "#Arguments\n",
    "protein = 'tropb'\n",
    "ligand = '2'\n",
    "pdb_with_fad_path = f'../../cofactor/pdb_with_fad/{protein}_fad.pdb'\n",
    "dockdir = f'../../dock/poses/{protein}_{ligand}_prot'\n",
    "stereo_df = pd.read_excel(f'../stereo/{protein}_{ligand}_stereo.xlsx', header = 0, index_col = 0)"
   ]
  },
  {
   "cell_type": "code",
   "execution_count": 3,
   "id": "5c281bc7-da87-4ed4-8c9c-cd79a5df6cb6",
   "metadata": {},
   "outputs": [
    {
     "data": {
      "text/html": [
       "<table class=\"simpletable\">\n",
       "<caption>Logit Regression Results</caption>\n",
       "<tr>\n",
       "  <th>Dep. Variable:</th>      <td>Conversion</td>    <th>  No. Observations:  </th>  <td>    67</td>  \n",
       "</tr>\n",
       "<tr>\n",
       "  <th>Model:</th>                 <td>Logit</td>      <th>  Df Residuals:      </th>  <td>    63</td>  \n",
       "</tr>\n",
       "<tr>\n",
       "  <th>Method:</th>                 <td>MLE</td>       <th>  Df Model:          </th>  <td>     3</td>  \n",
       "</tr>\n",
       "<tr>\n",
       "  <th>Date:</th>            <td>Fri, 07 Apr 2023</td> <th>  Pseudo R-squ.:     </th>  <td>0.2368</td>  \n",
       "</tr>\n",
       "<tr>\n",
       "  <th>Time:</th>                <td>13:40:15</td>     <th>  Log-Likelihood:    </th> <td> -34.980</td> \n",
       "</tr>\n",
       "<tr>\n",
       "  <th>converged:</th>             <td>True</td>       <th>  LL-Null:           </th> <td> -45.835</td> \n",
       "</tr>\n",
       "<tr>\n",
       "  <th>Covariance Type:</th>     <td>nonrobust</td>    <th>  LLR p-value:       </th> <td>7.501e-05</td>\n",
       "</tr>\n",
       "</table>\n",
       "<table class=\"simpletable\">\n",
       "<tr>\n",
       "                <td></td>                   <th>coef</th>     <th>std err</th>      <th>z</th>      <th>P>|z|</th>  <th>[0.025</th>    <th>0.975]</th>  \n",
       "</tr>\n",
       "<tr>\n",
       "  <th>Avg Fad Angle</th>                 <td>    0.1035</td> <td>    0.043</td> <td>    2.393</td> <td> 0.017</td> <td>    0.019</td> <td>    0.188</td>\n",
       "</tr>\n",
       "<tr>\n",
       "  <th>Avg Anion Dist</th>                <td>   -0.4565</td> <td>    0.199</td> <td>   -2.293</td> <td> 0.022</td> <td>   -0.847</td> <td>   -0.066</td>\n",
       "</tr>\n",
       "<tr>\n",
       "  <th>Avg Docking Energy Efficiency</th> <td>   -1.3699</td> <td>    0.389</td> <td>   -3.519</td> <td> 0.000</td> <td>   -2.133</td> <td>   -0.607</td>\n",
       "</tr>\n",
       "<tr>\n",
       "  <th>Avg Pafnucy pKa Efficiency</th>    <td>  -16.6168</td> <td>    5.488</td> <td>   -3.028</td> <td> 0.002</td> <td>  -27.373</td> <td>   -5.860</td>\n",
       "</tr>\n",
       "</table>"
      ],
      "text/plain": [
       "<class 'statsmodels.iolib.summary.Summary'>\n",
       "\"\"\"\n",
       "                           Logit Regression Results                           \n",
       "==============================================================================\n",
       "Dep. Variable:             Conversion   No. Observations:                   67\n",
       "Model:                          Logit   Df Residuals:                       63\n",
       "Method:                           MLE   Df Model:                            3\n",
       "Date:                Fri, 07 Apr 2023   Pseudo R-squ.:                  0.2368\n",
       "Time:                        13:40:15   Log-Likelihood:                -34.980\n",
       "converged:                       True   LL-Null:                       -45.835\n",
       "Covariance Type:            nonrobust   LLR p-value:                 7.501e-05\n",
       "=================================================================================================\n",
       "                                    coef    std err          z      P>|z|      [0.025      0.975]\n",
       "-------------------------------------------------------------------------------------------------\n",
       "Avg Fad Angle                     0.1035      0.043      2.393      0.017       0.019       0.188\n",
       "Avg Anion Dist                   -0.4565      0.199     -2.293      0.022      -0.847      -0.066\n",
       "Avg Docking Energy Efficiency    -1.3699      0.389     -3.519      0.000      -2.133      -0.607\n",
       "Avg Pafnucy pKa Efficiency      -16.6168      5.488     -3.028      0.002     -27.373      -5.860\n",
       "=================================================================================================\n",
       "\"\"\""
      ]
     },
     "execution_count": 3,
     "metadata": {},
     "output_type": "execute_result"
    }
   ],
   "source": [
    "#Read trained logistic regressor model for consensus reactivity\n",
    "log_reg = pickle.load(open(f'../../si_data/log_reg_models/prot_0.75_fftdock_3_logreg.pkl', 'rb'))\n",
    "log_reg.summary()"
   ]
  },
  {
   "cell_type": "code",
   "execution_count": 4,
   "id": "b414c2bf-44b2-4d79-bd3a-ced813cdd899",
   "metadata": {},
   "outputs": [
    {
     "data": {
      "text/html": [
       "<div>\n",
       "<style scoped>\n",
       "    .dataframe tbody tr th:only-of-type {\n",
       "        vertical-align: middle;\n",
       "    }\n",
       "\n",
       "    .dataframe tbody tr th {\n",
       "        vertical-align: top;\n",
       "    }\n",
       "\n",
       "    .dataframe thead th {\n",
       "        text-align: right;\n",
       "    }\n",
       "</style>\n",
       "<table border=\"1\" class=\"dataframe\">\n",
       "  <thead>\n",
       "    <tr style=\"text-align: right;\">\n",
       "      <th></th>\n",
       "      <th>cluster</th>\n",
       "      <th>size</th>\n",
       "      <th>min_ener</th>\n",
       "      <th>min_index</th>\n",
       "      <th>average energy</th>\n",
       "      <th>std energy</th>\n",
       "      <th>stereo</th>\n",
       "      <th>angle</th>\n",
       "      <th>dist_to_fad</th>\n",
       "      <th>anion_dist</th>\n",
       "    </tr>\n",
       "  </thead>\n",
       "  <tbody>\n",
       "    <tr>\n",
       "      <th>0</th>\n",
       "      <td>['116', '121', '160', '162', '166', '185', '19...</td>\n",
       "      <td>31</td>\n",
       "      <td>-52.23</td>\n",
       "      <td>340</td>\n",
       "      <td>-26.32</td>\n",
       "      <td>15.43</td>\n",
       "      <td>R</td>\n",
       "      <td>110.67</td>\n",
       "      <td>5.781542</td>\n",
       "      <td>4.587086</td>\n",
       "    </tr>\n",
       "    <tr>\n",
       "      <th>1</th>\n",
       "      <td>['105', '106', '132', '146', '153', '176', '19...</td>\n",
       "      <td>18</td>\n",
       "      <td>-50.55</td>\n",
       "      <td>132</td>\n",
       "      <td>-22.22</td>\n",
       "      <td>24.09</td>\n",
       "      <td>R</td>\n",
       "      <td>108.20</td>\n",
       "      <td>5.683485</td>\n",
       "      <td>4.820822</td>\n",
       "    </tr>\n",
       "    <tr>\n",
       "      <th>2</th>\n",
       "      <td>['123', '228', '241', '246', '284', '297', '30...</td>\n",
       "      <td>16</td>\n",
       "      <td>-42.00</td>\n",
       "      <td>420</td>\n",
       "      <td>-29.00</td>\n",
       "      <td>10.68</td>\n",
       "      <td>R</td>\n",
       "      <td>116.33</td>\n",
       "      <td>5.553344</td>\n",
       "      <td>4.595473</td>\n",
       "    </tr>\n",
       "    <tr>\n",
       "      <th>3</th>\n",
       "      <td>['131', '140', '147', '164', '173', '188', '28...</td>\n",
       "      <td>23</td>\n",
       "      <td>-40.47</td>\n",
       "      <td>344</td>\n",
       "      <td>-13.77</td>\n",
       "      <td>21.18</td>\n",
       "      <td>R</td>\n",
       "      <td>132.26</td>\n",
       "      <td>4.742048</td>\n",
       "      <td>3.128783</td>\n",
       "    </tr>\n",
       "    <tr>\n",
       "      <th>4</th>\n",
       "      <td>['315', '376']</td>\n",
       "      <td>2</td>\n",
       "      <td>-35.26</td>\n",
       "      <td>376</td>\n",
       "      <td>-25.86</td>\n",
       "      <td>9.39</td>\n",
       "      <td>S</td>\n",
       "      <td>48.58</td>\n",
       "      <td>6.074435</td>\n",
       "      <td>11.829259</td>\n",
       "    </tr>\n",
       "    <tr>\n",
       "      <th>...</th>\n",
       "      <td>...</td>\n",
       "      <td>...</td>\n",
       "      <td>...</td>\n",
       "      <td>...</td>\n",
       "      <td>...</td>\n",
       "      <td>...</td>\n",
       "      <td>...</td>\n",
       "      <td>...</td>\n",
       "      <td>...</td>\n",
       "      <td>...</td>\n",
       "    </tr>\n",
       "    <tr>\n",
       "      <th>94</th>\n",
       "      <td>['145', '223', '27', '28', '47']</td>\n",
       "      <td>5</td>\n",
       "      <td>409.14</td>\n",
       "      <td>47</td>\n",
       "      <td>431.31</td>\n",
       "      <td>11.99</td>\n",
       "      <td>S</td>\n",
       "      <td>77.36</td>\n",
       "      <td>6.697443</td>\n",
       "      <td>3.234980</td>\n",
       "    </tr>\n",
       "    <tr>\n",
       "      <th>95</th>\n",
       "      <td>['45']</td>\n",
       "      <td>1</td>\n",
       "      <td>445.52</td>\n",
       "      <td>45</td>\n",
       "      <td>445.52</td>\n",
       "      <td>0.00</td>\n",
       "      <td>S</td>\n",
       "      <td>59.22</td>\n",
       "      <td>6.822106</td>\n",
       "      <td>3.230141</td>\n",
       "    </tr>\n",
       "    <tr>\n",
       "      <th>96</th>\n",
       "      <td>['363', '497']</td>\n",
       "      <td>2</td>\n",
       "      <td>1978.06</td>\n",
       "      <td>497</td>\n",
       "      <td>3924.27</td>\n",
       "      <td>1946.20</td>\n",
       "      <td>S</td>\n",
       "      <td>33.15</td>\n",
       "      <td>2.756856</td>\n",
       "      <td>8.899055</td>\n",
       "    </tr>\n",
       "    <tr>\n",
       "      <th>97</th>\n",
       "      <td>['299']</td>\n",
       "      <td>1</td>\n",
       "      <td>5066.50</td>\n",
       "      <td>299</td>\n",
       "      <td>5066.50</td>\n",
       "      <td>0.00</td>\n",
       "      <td>S</td>\n",
       "      <td>52.86</td>\n",
       "      <td>2.489911</td>\n",
       "      <td>8.118101</td>\n",
       "    </tr>\n",
       "    <tr>\n",
       "      <th>98</th>\n",
       "      <td>['218', '312']</td>\n",
       "      <td>2</td>\n",
       "      <td>8092.50</td>\n",
       "      <td>218</td>\n",
       "      <td>9194.74</td>\n",
       "      <td>1102.24</td>\n",
       "      <td>S</td>\n",
       "      <td>39.93</td>\n",
       "      <td>1.930349</td>\n",
       "      <td>9.372196</td>\n",
       "    </tr>\n",
       "  </tbody>\n",
       "</table>\n",
       "<p>99 rows × 10 columns</p>\n",
       "</div>"
      ],
      "text/plain": [
       "                                              cluster  size  min_ener  \\\n",
       "0   ['116', '121', '160', '162', '166', '185', '19...    31    -52.23   \n",
       "1   ['105', '106', '132', '146', '153', '176', '19...    18    -50.55   \n",
       "2   ['123', '228', '241', '246', '284', '297', '30...    16    -42.00   \n",
       "3   ['131', '140', '147', '164', '173', '188', '28...    23    -40.47   \n",
       "4                                      ['315', '376']     2    -35.26   \n",
       "..                                                ...   ...       ...   \n",
       "94                   ['145', '223', '27', '28', '47']     5    409.14   \n",
       "95                                             ['45']     1    445.52   \n",
       "96                                     ['363', '497']     2   1978.06   \n",
       "97                                            ['299']     1   5066.50   \n",
       "98                                     ['218', '312']     2   8092.50   \n",
       "\n",
       "    min_index  average energy  std energy stereo   angle  dist_to_fad  \\\n",
       "0         340          -26.32       15.43      R  110.67     5.781542   \n",
       "1         132          -22.22       24.09      R  108.20     5.683485   \n",
       "2         420          -29.00       10.68      R  116.33     5.553344   \n",
       "3         344          -13.77       21.18      R  132.26     4.742048   \n",
       "4         376          -25.86        9.39      S   48.58     6.074435   \n",
       "..        ...             ...         ...    ...     ...          ...   \n",
       "94         47          431.31       11.99      S   77.36     6.697443   \n",
       "95         45          445.52        0.00      S   59.22     6.822106   \n",
       "96        497         3924.27     1946.20      S   33.15     2.756856   \n",
       "97        299         5066.50        0.00      S   52.86     2.489911   \n",
       "98        218         9194.74     1102.24      S   39.93     1.930349   \n",
       "\n",
       "    anion_dist  \n",
       "0     4.587086  \n",
       "1     4.820822  \n",
       "2     4.595473  \n",
       "3     3.128783  \n",
       "4    11.829259  \n",
       "..         ...  \n",
       "94    3.234980  \n",
       "95    3.230141  \n",
       "96    8.899055  \n",
       "97    8.118101  \n",
       "98    9.372196  \n",
       "\n",
       "[99 rows x 10 columns]"
      ]
     },
     "execution_count": 4,
     "metadata": {},
     "output_type": "execute_result"
    }
   ],
   "source": [
    "#Angle, anion dist and docking energy from stereochemistry analysis of cluster df\n",
    "stereo_df"
   ]
  },
  {
   "cell_type": "code",
   "execution_count": 5,
   "id": "d6b5e276-5945-4b4d-ae28-7ebab8bea4e5",
   "metadata": {},
   "outputs": [],
   "source": [
    "#Get predicted pKd from Pafnucy\n",
    "#Use top docked pose for protein-ligand complex\n",
    "top_index = stereo_df['min_index'].iloc[0]\n",
    "top_pose_path = os.path.join(dockdir, f'{protein}_{ligand}_{top_index}.pdb')"
   ]
  },
  {
   "cell_type": "code",
   "execution_count": 6,
   "id": "247cc5b6-0431-470b-ac67-086275b198ad",
   "metadata": {
    "tags": []
   },
   "outputs": [
    {
     "name": "stdout",
     "output_type": "stream",
     "text": [
      "1 ligands and 1 pockets to prepare:\n",
      " pocket: /home/azamh/demo/seq_struct_func/cofactor/pdb_with_fad/tropb_fad.pdb\n",
      " ligand: /home/azamh/demo/seq_struct_func/dock/poses/tropb_2_prot/tropb_2_340.pdb\n",
      "\n",
      "\n",
      "\n",
      "reading /home/azamh/demo/seq_struct_func/dock/poses/tropb_2_prot/tropb_2_340.pdb\n",
      "\n",
      "\n",
      "created /home/azamh/demo/seq_struct_func/pred/pafnucy/tropb_2.hdf with 1 structures\n"
     ]
    },
    {
     "data": {
      "text/plain": [
       "0"
      ]
     },
     "execution_count": 6,
     "metadata": {},
     "output_type": "execute_result"
    }
   ],
   "source": [
    "#Prepare protein ligand complex\n",
    "complex_file = f'../pafnucy/{protein}_{ligand}.hdf'\n",
    "prepare_cmd = f'{sys.executable} ./pafnucy/prepare.py -l {top_pose_path} --ligand_format pdb ' + \\\n",
    "f'-p {pdb_with_fad_path} --pocket_format pdb -o {complex_file}'\n",
    "os.system(prepare_cmd)"
   ]
  },
  {
   "cell_type": "code",
   "execution_count": 7,
   "id": "e1840561-5fb3-4d4b-a9e7-105ce5a0e4ef",
   "metadata": {},
   "outputs": [
    {
     "name": "stderr",
     "output_type": "stream",
     "text": [
      "2023-04-07 13:40:17.030735: I tensorflow/core/platform/cpu_feature_guard.cc:193] This TensorFlow binary is optimized with oneAPI Deep Neural Network Library (oneDNN) to use the following CPU instructions in performance-critical operations:  SSE4.1 SSE4.2 AVX AVX2 AVX512F AVX512_VNNI FMA\n",
      "To enable them in other operations, rebuild TensorFlow with the appropriate compiler flags.\n",
      "2023-04-07 13:40:17.112917: I tensorflow/core/util/port.cc:104] oneDNN custom operations are on. You may see slightly different numerical results due to floating-point round-off errors from different computation orders. To turn them off, set the environment variable `TF_ENABLE_ONEDNN_OPTS=0`.\n",
      "WARNING:tensorflow:From /home/azamh/miniconda3/envs/seq_struct_func/lib/python3.10/site-packages/tensorflow/python/compat/v2_compat.py:107: disable_resource_variables (from tensorflow.python.ops.variable_scope) is deprecated and will be removed in a future version.\n",
      "Instructions for updating:\n",
      "non-resource variables are not supported in the long term\n",
      "2023-04-07 13:40:19.935029: I tensorflow/core/platform/cpu_feature_guard.cc:193] This TensorFlow binary is optimized with oneAPI Deep Neural Network Library (oneDNN) to use the following CPU instructions in performance-critical operations:  SSE4.1 SSE4.2 AVX AVX2 AVX512F AVX512_VNNI FMA\n",
      "To enable them in other operations, rebuild TensorFlow with the appropriate compiler flags.\n",
      "2023-04-07 13:40:19.943962: I tensorflow/compiler/mlir/mlir_graph_optimization_pass.cc:357] MLIR V1 optimization pass is not enabled\n"
     ]
    },
    {
     "name": "stdout",
     "output_type": "stream",
     "text": [
      "loaded 1 complexes\n",
      "\n",
      "restored network from /home/azamh/demo/seq_struct_func/pred/script/pafnucy/results/batch5-2017-06-05T07:58:47-best\n",
      "\n",
      "20 samples per batch\n",
      "\n",
      "results saved to /home/azamh/demo/seq_struct_func/pred/pafnucy/tropb_2.csv\n"
     ]
    },
    {
     "data": {
      "text/plain": [
       "0"
      ]
     },
     "execution_count": 7,
     "metadata": {},
     "output_type": "execute_result"
    }
   ],
   "source": [
    "#Predict with trained CNN\n",
    "prediction_file = f'../pafnucy/{protein}_{ligand}.csv'\n",
    "network = './pafnucy/results/batch5-2017-06-05T07:58:47-best'\n",
    "predict_cmd = f'{sys.executable} ./pafnucy/predict.py -i {complex_file} -n {network} -o {prediction_file}'\n",
    "os.system(predict_cmd)"
   ]
  },
  {
   "cell_type": "code",
   "execution_count": 8,
   "id": "a7abb1db-1686-49bf-96ca-971704926828",
   "metadata": {},
   "outputs": [
    {
     "data": {
      "text/plain": [
       "6.3208246"
      ]
     },
     "execution_count": 8,
     "metadata": {},
     "output_type": "execute_result"
    }
   ],
   "source": [
    "pred_pkd = pd.read_csv(prediction_file, header = 0, index_col = 0)['prediction'].iloc[0]\n",
    "pred_pkd"
   ]
  },
  {
   "cell_type": "code",
   "execution_count": 9,
   "id": "55a7fc9e-50bd-40ef-92bd-5b3c9846eaad",
   "metadata": {},
   "outputs": [
    {
     "name": "stdout",
     "output_type": "stream",
     "text": [
      "dock_energy_efficiency -3.0723529411764705 kcal/mol/HA\n",
      "angle 69.33 degrees\n",
      "anion_dist 4.58708589411622 angstrom\n",
      "pred_pkd_efficiency 0.3718132117647059 1/HA\n"
     ]
    }
   ],
   "source": [
    "#Process values for logistic regression model\n",
    "\n",
    "#Dictionary for ligand heavy atom counts:\n",
    "ha_dict = {'2':17, '3':18, '4':17, '5':14}\n",
    "\n",
    "#Read in pose geometric information from stereo_df\n",
    "top_cluster = stereo_df.iloc[0]\n",
    "dock_energy = top_cluster['min_ener']\n",
    "angle = top_cluster['angle']\n",
    "if angle > 90:\n",
    "    angle = 180 - angle\n",
    "anion_dist = top_cluster['anion_dist']\n",
    "\n",
    "#Rescale by heavy atom counts for pkd and dock energy\n",
    "dock_energy_efficiency = dock_energy / ha_dict[ligand]\n",
    "pred_pkd_efficiency = pred_pkd / ha_dict[ligand]\n",
    "\n",
    "print('dock_energy_efficiency', dock_energy_efficiency, 'kcal/mol/HA')\n",
    "print('angle', angle, 'degrees')\n",
    "print('anion_dist', anion_dist, 'angstrom')\n",
    "print('pred_pkd_efficiency', pred_pkd_efficiency, '1/HA')"
   ]
  },
  {
   "cell_type": "code",
   "execution_count": 10,
   "id": "64ade05d-e100-4961-a76c-2fd0f1c120d3",
   "metadata": {},
   "outputs": [
    {
     "data": {
      "text/plain": [
       "array([0.95748382])"
      ]
     },
     "execution_count": 10,
     "metadata": {},
     "output_type": "execute_result"
    }
   ],
   "source": [
    "#Predict with logistic regression model: 0 -> unreactive, 1 -> reactive\n",
    "log_reg.predict([angle, anion_dist, dock_energy_efficiency, pred_pkd_efficiency])"
   ]
  }
 ],
 "metadata": {
  "kernelspec": {
   "display_name": "seq_struct_func",
   "language": "python",
   "name": "seq_struct_func"
  },
  "language_info": {
   "codemirror_mode": {
    "name": "ipython",
    "version": 3
   },
   "file_extension": ".py",
   "mimetype": "text/x-python",
   "name": "python",
   "nbconvert_exporter": "python",
   "pygments_lexer": "ipython3",
   "version": "3.10.8"
  }
 },
 "nbformat": 4,
 "nbformat_minor": 5
}
