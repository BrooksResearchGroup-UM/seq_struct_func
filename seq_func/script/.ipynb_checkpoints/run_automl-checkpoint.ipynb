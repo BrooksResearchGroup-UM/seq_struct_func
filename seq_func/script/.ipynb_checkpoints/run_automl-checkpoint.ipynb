{
 "cells": [
  {
   "cell_type": "code",
   "execution_count": 1,
   "id": "c4ec7a95-ed3b-4311-a6d1-c4cd32281ed8",
   "metadata": {},
   "outputs": [
    {
     "name": "stderr",
     "output_type": "stream",
     "text": [
      "fc-list: /home/azamh/miniconda3/bin/../lib/././libz.so.1: version `ZLIB_1.2.9' not found (required by /home/azamh/miniconda3/bin/../lib/././libpng16.so.16)\n"
     ]
    }
   ],
   "source": [
    "#Use processed multiple sequence alignment with stereochemistry and reactivity annotations to train ML model\n",
    "import os\n",
    "from supervised.automl import AutoML\n",
    "import pandas as pd\n",
    "import seaborn as sns\n",
    "import warnings\n",
    "\n",
    "warnings.filterwarnings('ignore')"
   ]
  },
  {
   "cell_type": "code",
   "execution_count": 2,
   "id": "5091d9d6-5812-4273-b518-1986e3811293",
   "metadata": {},
   "outputs": [],
   "source": [
    "#Arguments\n",
    "resultsdir = '../automl_stereo'\n",
    "pruned_msa_df = pd.read_excel(f'../../msa/alignment/pruned_msa_df.xlsx', header = 0, index_col = 0)\n",
    "pruned_resi_df = pd.read_excel(f'../../msa/alignment/pruned_resi_df.xlsx', header = 0, index_col = 0)\n",
    "asr_seq_annotations = pd.read_excel('../../si_data/asr_seq_annotations.xlsx', header = 0, index_col = 0)\n",
    "assert asr_seq_annotations.index.equals(pruned_msa_df.index)"
   ]
  },
  {
   "cell_type": "code",
   "execution_count": 3,
   "id": "2c8f100f-8ec3-4e41-ada8-613046fbb31d",
   "metadata": {},
   "outputs": [],
   "source": [
    "#Create autoML object\n",
    "automl_stereo = AutoML(\n",
    "    mode = 'Perform',          #Do hyperparameter tuning\n",
    "    total_time_limit=3600,     #1 hour\n",
    "    results_path = resultsdir,\n",
    "    explain_level = 2,         #Calculate SHAP values\n",
    "    algorithms = [\n",
    "                \"Xgboost\",\n",
    "                \"Random Forest\",\n",
    "                \"CatBoost\",\n",
    "            ],\n",
    "    golden_features=False)"
   ]
  },
  {
   "cell_type": "code",
   "execution_count": 4,
   "id": "f1621ce0-9c48-49b8-9cc0-82bce25b0fb3",
   "metadata": {},
   "outputs": [
    {
     "data": {
      "text/plain": [
       "<AxesSubplot: xlabel='average_pred_stereo', ylabel='count'>"
      ]
     },
     "execution_count": 4,
     "metadata": {},
     "output_type": "execute_result"
    },
    {
     "data": {
      "image/png": "[encoded data removed]",
      "text/plain": [
       "<Figure size 640x480 with 1 Axes>"
      ]
     },
     "metadata": {},
     "output_type": "display_data"
    }
   ],
   "source": [
    "#Fit model to stereochemistry\n",
    "sns.countplot(asr_seq_annotations, x = 'average_pred_stereo')"
   ]
  },
  {
   "cell_type": "code",
   "execution_count": 5,
   "id": "7f1e3616-30d5-48cd-8bf4-ee89b3e0bda5",
   "metadata": {},
   "outputs": [
    {
     "name": "stdout",
     "output_type": "stream",
     "text": [
      "AutoML directory: ../automl_stereo\n",
      "The task is multiclass_classification with evaluation metric logloss\n",
      "AutoML will use algorithms: ['Xgboost', 'Random Forest', 'CatBoost']\n",
      "AutoML will ensemble available models\n",
      "AutoML steps: ['simple_algorithms', 'default_algorithms', 'not_so_random', 'insert_random_feature', 'features_selection', 'hill_climbing_1', 'hill_climbing_2', 'ensemble']\n",
      "Skip simple_algorithms because no parameters were generated.\n",
      "* Step default_algorithms will try to check up to 3 models\n"
     ]
    },
    {
     "name": "stderr",
     "output_type": "stream",
     "text": [
      "fc-list: /home/azamh/miniconda3/bin/../lib/././libz.so.1: version `ZLIB_1.2.9' not found (required by /home/azamh/miniconda3/bin/../lib/././libpng16.so.16)\n",
      "fc-list: /home/azamh/miniconda3/bin/../lib/././libz.so.1: version `ZLIB_1.2.9' not found (required by /home/azamh/miniconda3/bin/../lib/././libpng16.so.16)\n",
      "fc-list: /home/azamh/miniconda3/bin/../lib/././libz.so.1: version `ZLIB_1.2.9' not found (required by /home/azamh/miniconda3/bin/../lib/././libpng16.so.16)\n",
      "fc-list: /home/azamh/miniconda3/bin/../lib/././libz.so.1: version `ZLIB_1.2.9' not found (required by /home/azamh/miniconda3/bin/../lib/././libpng16.so.16)\n"
     ]
    },
    {
     "name": "stdout",
     "output_type": "stream",
     "text": [
      "1_Default_Xgboost logloss 0.659115 trained in 144.14 seconds (1-sample predict time 0.4343 seconds)\n"
     ]
    },
    {
     "name": "stderr",
     "output_type": "stream",
     "text": [
      "TBB Warning: The number of workers is currently limited to 3. The request for 19 workers is ignored. Further requests for more workers will be silently ignored until the limit changes.\n",
      "\n",
      "TBB Warning: The number of workers is currently limited to 3. The request for 19 workers is ignored. Further requests for more workers will be silently ignored until the limit changes.\n",
      "\n",
      "TBB Warning: The number of workers is currently limited to 3. The request for 19 workers is ignored. Further requests for more workers will be silently ignored until the limit changes.\n",
      "\n",
      "TBB Warning: The number of workers is currently limited to 3. The request for 19 workers is ignored. Further requests for more workers will be silently ignored until the limit changes.\n",
      "\n",
      "TBB Warning: The number of workers is currently limited to 3. The request for 19 workers is ignored. Further requests for more workers will be silently ignored until the limit changes.\n",
      "\n"
     ]
    },
    {
     "name": "stdout",
     "output_type": "stream",
     "text": [
      "2_Default_CatBoost logloss 0.639624 trained in 92.26 seconds (1-sample predict time 0.0418 seconds)\n",
      "3_Default_RandomForest logloss 0.63676 trained in 98.53 seconds (1-sample predict time 0.4934 seconds)\n",
      "* Step not_so_random will try to check up to 12 models\n",
      "4_Xgboost logloss 0.65824 trained in 140.79 seconds (1-sample predict time 0.4512 seconds)\n",
      "8_CatBoost logloss 0.64949 trained in 38.7 seconds (1-sample predict time 0.0428 seconds)\n",
      "12_RandomForest logloss 0.635951 trained in 107.7 seconds (1-sample predict time 0.5056 seconds)\n",
      "5_Xgboost logloss 0.671265 trained in 147.38 seconds (1-sample predict time 0.452 seconds)\n",
      "9_CatBoost logloss 0.634913 trained in 81.93 seconds (1-sample predict time 0.0432 seconds)\n",
      "13_RandomForest logloss 0.642283 trained in 121.19 seconds (1-sample predict time 0.5203 seconds)\n",
      "6_Xgboost logloss 0.646651 trained in 149.11 seconds (1-sample predict time 0.4487 seconds)\n",
      "10_CatBoost logloss 0.647652 trained in 119.14 seconds (1-sample predict time 0.0429 seconds)\n",
      "14_RandomForest logloss 0.649951 trained in 114.16 seconds (1-sample predict time 0.5008 seconds)\n",
      "7_Xgboost logloss 0.666183 trained in 139.53 seconds (1-sample predict time 0.449 seconds)\n",
      "11_CatBoost logloss 0.630375 trained in 143.27 seconds (1-sample predict time 0.043 seconds)\n",
      "15_RandomForest logloss 0.648259 trained in 134.84 seconds (1-sample predict time 0.5343 seconds)\n",
      "Not enough time to perform features selection. Skip\n",
      "Time needed for features selection ~ 550.0 seconds\n",
      "Please increase total_time_limit to at least (5560 seconds) to have features selection\n",
      "Skip insert_random_feature because no parameters were generated.\n",
      "Skip features_selection because no parameters were generated.\n",
      "* Step hill_climbing_1 will try to check up to 9 models\n",
      "16_CatBoost logloss 0.637018 trained in 237.27 seconds (1-sample predict time 0.0422 seconds)\n",
      "17_CatBoost logloss 0.631446 trained in 122.11 seconds (1-sample predict time 0.0432 seconds)\n",
      "18_CatBoost logloss 0.640457 trained in 92.04 seconds (1-sample predict time 0.043 seconds)\n",
      "19_RandomForest logloss 0.636181 trained in 132.14 seconds (1-sample predict time 0.5235 seconds)\n",
      "20_RandomForest logloss 0.636615 trained in 124.91 seconds (1-sample predict time 0.5047 seconds)\n",
      "21_Xgboost logloss 0.646651 trained in 160.83 seconds (1-sample predict time 0.4512 seconds)\n",
      "22_Xgboost logloss 0.646651 trained in 164.25 seconds (1-sample predict time 0.4367 seconds)\n",
      "23_Xgboost logloss 0.656264 trained in 166.69 seconds (1-sample predict time 0.4373 seconds)\n",
      "24_Xgboost logloss 0.66105 trained in 169.78 seconds (1-sample predict time 0.4526 seconds)\n",
      "* Step hill_climbing_2 will try to check up to 8 models\n",
      "25_CatBoost logloss 0.627906 trained in 162.56 seconds (1-sample predict time 0.0428 seconds)\n",
      "26_CatBoost logloss 0.628381 trained in 184.57 seconds (1-sample predict time 0.0434 seconds)\n",
      "* Step ensemble will try to check up to 1 model\n",
      "Ensemble logloss 0.621013 trained in 1.38 seconds (1-sample predict time 0.2106 seconds)\n",
      "AutoML fit time: 3570.24 seconds\n",
      "AutoML best model: Ensemble\n"
     ]
    },
    {
     "data": {
      "text/html": [
       "<style>#sk-container-id-1 {color: black;background-color: white;}#sk-container-id-1 pre{padding: 0;}#sk-container-id-1 div.sk-toggleable {background-color: white;}#sk-container-id-1 label.sk-toggleable__label {cursor: pointer;display: block;width: 100%;margin-bottom: 0;padding: 0.3em;box-sizing: border-box;text-align: center;}#sk-container-id-1 label.sk-toggleable__label-arrow:before {content: \"▸\";float: left;margin-right: 0.25em;color: #696969;}#sk-container-id-1 label.sk-toggleable__label-arrow:hover:before {color: black;}#sk-container-id-1 div.sk-estimator:hover label.sk-toggleable__label-arrow:before {color: black;}#sk-container-id-1 div.sk-toggleable__content {max-height: 0;max-width: 0;overflow: hidden;text-align: left;background-color: #f0f8ff;}#sk-container-id-1 div.sk-toggleable__content pre {margin: 0.2em;color: black;border-radius: 0.25em;background-color: #f0f8ff;}#sk-container-id-1 input.sk-toggleable__control:checked~div.sk-toggleable__content {max-height: 200px;max-width: 100%;overflow: auto;}#sk-container-id-1 input.sk-toggleable__control:checked~label.sk-toggleable__label-arrow:before {content: \"▾\";}#sk-container-id-1 div.sk-estimator input.sk-toggleable__control:checked~label.sk-toggleable__label {background-color: #d4ebff;}#sk-container-id-1 div.sk-label input.sk-toggleable__control:checked~label.sk-toggleable__label {background-color: #d4ebff;}#sk-container-id-1 input.sk-hidden--visually {border: 0;clip: rect(1px 1px 1px 1px);clip: rect(1px, 1px, 1px, 1px);height: 1px;margin: -1px;overflow: hidden;padding: 0;position: absolute;width: 1px;}#sk-container-id-1 div.sk-estimator {font-family: monospace;background-color: #f0f8ff;border: 1px dotted black;border-radius: 0.25em;box-sizing: border-box;margin-bottom: 0.5em;}#sk-container-id-1 div.sk-estimator:hover {background-color: #d4ebff;}#sk-container-id-1 div.sk-parallel-item::after {content: \"\";width: 100%;border-bottom: 1px solid gray;flex-grow: 1;}#sk-container-id-1 div.sk-label:hover label.sk-toggleable__label {background-color: #d4ebff;}#sk-container-id-1 div.sk-serial::before {content: \"\";position: absolute;border-left: 1px solid gray;box-sizing: border-box;top: 0;bottom: 0;left: 50%;z-index: 0;}#sk-container-id-1 div.sk-serial {display: flex;flex-direction: column;align-items: center;background-color: white;padding-right: 0.2em;padding-left: 0.2em;position: relative;}#sk-container-id-1 div.sk-item {position: relative;z-index: 1;}#sk-container-id-1 div.sk-parallel {display: flex;align-items: stretch;justify-content: center;background-color: white;position: relative;}#sk-container-id-1 div.sk-item::before, #sk-container-id-1 div.sk-parallel-item::before {content: \"\";position: absolute;border-left: 1px solid gray;box-sizing: border-box;top: 0;bottom: 0;left: 50%;z-index: -1;}#sk-container-id-1 div.sk-parallel-item {display: flex;flex-direction: column;z-index: 1;position: relative;background-color: white;}#sk-container-id-1 div.sk-parallel-item:first-child::after {align-self: flex-end;width: 50%;}#sk-container-id-1 div.sk-parallel-item:last-child::after {align-self: flex-start;width: 50%;}#sk-container-id-1 div.sk-parallel-item:only-child::after {width: 0;}#sk-container-id-1 div.sk-dashed-wrapped {border: 1px dashed gray;margin: 0 0.4em 0.5em 0.4em;box-sizing: border-box;padding-bottom: 0.4em;background-color: white;}#sk-container-id-1 div.sk-label label {font-family: monospace;font-weight: bold;display: inline-block;line-height: 1.2em;}#sk-container-id-1 div.sk-label-container {text-align: center;}#sk-container-id-1 div.sk-container {/* jupyter's `normalize.less` sets `[hidden] { display: none; }` but bootstrap.min.css set `[hidden] { display: none !important; }` so we also need the `!important` here to be able to override the default hidden behavior on the sphinx rendered scikit-learn.org. See: https://github.com/scikit-learn/scikit-learn/issues/21755 */display: inline-block !important;position: relative;}#sk-container-id-1 div.sk-text-repr-fallback {display: none;}</style><div id=\"sk-container-id-1\" class=\"sk-top-container\"><div class=\"sk-text-repr-fallback\"><pre>AutoML(algorithms=[&#x27;Xgboost&#x27;, &#x27;Random Forest&#x27;, &#x27;CatBoost&#x27;], explain_level=2,\n",
       "       golden_features=False, mode=&#x27;Perform&#x27;, results_path=&#x27;../automl_stereo&#x27;)</pre><b>In a Jupyter environment, please rerun this cell to show the HTML representation or trust the notebook. <br />On GitHub, the HTML representation is unable to render, please try loading this page with nbviewer.org.</b></div><div class=\"sk-container\" hidden><div class=\"sk-item\"><div class=\"sk-estimator sk-toggleable\"><input class=\"sk-toggleable__control sk-hidden--visually\" id=\"sk-estimator-id-1\" type=\"checkbox\" checked><label for=\"sk-estimator-id-1\" class=\"sk-toggleable__label sk-toggleable__label-arrow\">AutoML</label><div class=\"sk-toggleable__content\"><pre>AutoML(algorithms=[&#x27;Xgboost&#x27;, &#x27;Random Forest&#x27;, &#x27;CatBoost&#x27;], explain_level=2,\n",
       "       golden_features=False, mode=&#x27;Perform&#x27;, results_path=&#x27;../automl_stereo&#x27;)</pre></div></div></div></div></div>"
      ],
      "text/plain": [
       "AutoML(algorithms=['Xgboost', 'Random Forest', 'CatBoost'], explain_level=2,\n",
       "       golden_features=False, mode='Perform', results_path='../automl_stereo')"
      ]
     },
     "execution_count": 5,
     "metadata": {},
     "output_type": "execute_result"
    }
   ],
   "source": [
    "#Fit automl (delete automl_stereo folder to rerun)\n",
    "automl_stereo.fit(pruned_msa_df, asr_seq_annotations['average_pred_stereo'])"
   ]
  }
 ],
 "metadata": {
  "kernelspec": {
   "display_name": "seq_struct_func",
   "language": "python",
   "name": "seq_struct_func"
  },
  "language_info": {
   "codemirror_mode": {
    "name": "ipython",
    "version": 3
   },
   "file_extension": ".py",
   "mimetype": "text/x-python",
   "name": "python",
   "nbconvert_exporter": "python",
   "pygments_lexer": "ipython3",
   "version": "3.9.16"
  }
 },
 "nbformat": 4,
 "nbformat_minor": 5
}
