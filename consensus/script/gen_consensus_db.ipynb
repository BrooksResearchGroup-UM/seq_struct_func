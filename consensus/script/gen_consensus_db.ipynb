{
 "cells": [
  {
   "cell_type": "code",
   "execution_count": 1,
   "id": "e8bda75b-7ae9-47dc-8cf1-9fe613e5b5bc",
   "metadata": {},
   "outputs": [],
   "source": [
    "\"\"\"Walk through generating consensus sequence and consensus database\"\"\"\n",
    "#Inputs:\n",
    "    #si_data/extant_msa.fasta\n",
    "    #consensus/consensus_af2_results/msas\n",
    "        #Untar msas before running\n",
    "#Outputs:\n",
    "    #consensus.fasta\n",
    "    #consensus_db.fasta\n",
    "\n",
    "#Imports\n",
    "import os\n",
    "from Bio import AlignIO"
   ]
  },
  {
   "cell_type": "code",
   "execution_count": 2,
   "id": "02b440d3-7912-4a25-aa3a-e09ec558cee2",
   "metadata": {},
   "outputs": [],
   "source": [
    "#Path to extant MSA\n",
    "extant_msa_path = '../../si_data/extant_msa.fasta'"
   ]
  },
  {
   "cell_type": "code",
   "execution_count": 3,
   "id": "8eb6ed6c-f71e-46c0-b98a-6205c1c3c347",
   "metadata": {},
   "outputs": [
    {
     "name": "stdout",
     "output_type": "stream",
     "text": [
      "HHconsensus 3.3.0\n",
      "Calculate the consensus sequence for an A3M/FASTA input file.   \n",
      "(c) The HH-suite development team\n",
      "Steinegger M, Meier M, Mirdita M, Vöhringer H, Haunsberger S J, and Söding J (2019)\n",
      "HH-suite3 for fast remote homology detection and deep protein annotation.\n",
      "BMC Bioinformatics, doi:10.1186/s12859-019-3019-7\n",
      "\n",
      "Usage: hhconsensus -i <file> [options]                           \n",
      " -i <file>     query alignment (A2M, A3M, or FASTA), or query HMM          \n",
      "\n",
      "Output options:                                                            \n",
      " -s <file>     append consensus sequence in FASTA (default=<infile.seq>)   \n",
      " -o <file>     write alignment with consensus sequence in A3M              \n",
      " -oa3m <file>  same                                                        \n",
      " -oa2m <file>  write alignment with consensus sequence in A2M              \n",
      " -ofas <file>  write alignment with consensus sequence in FASTA            \n",
      " -v <int>      verbose mode: 0:no screen output  1:only warings  2: verbose\n",
      "\n",
      "Filter input alignment (options can be combined):                         \n",
      " -id   [0,100] maximum pairwise sequence identity (%) (def=100)   \n",
      " -diff [0,inf[ filter most diverse set of sequences, keeping at least this    \n",
      "               many sequences in each block of >50 columns (def=0)\n",
      " -cov  [0,100] minimum coverage with query (%) (def=0) \n",
      " -qid  [0,100] minimum sequence identity with query (%) (def=0) \n",
      " -qsc  [0,100] minimum score per column with query  (def=-20.0)\n",
      "\n",
      "Input alignment format:                                                    \n",
      " -M a2m        use A2M/A3M (default): upper case = Match; lower case = Insert;\n",
      "               '-' = Delete; '.' = gaps aligned to inserts (may be omitted)   \n",
      " -M first      use FASTA: columns with residue in 1st sequence are match states\n",
      " -M [0,100]    use FASTA: columns with fewer than X% gaps are match states   \n",
      "\n",
      "Other options:                                                               \n",
      " -maxseq <int>  max number of input rows (def=65535)\n",
      " -maxres <int> max number of HMM columns (def=20001)\n",
      "\n",
      "Example: hhconsensus -i stdin -s stdout\n",
      "\n",
      "\n"
     ]
    }
   ],
   "source": [
    "#Generate consensus sequence from extant MSA with hhconsensus from HH-suite3\n",
    "#https://github.com/soedinglab/hh-suite \n",
    "!conda run -n seq_struct_func hhconsensus -h"
   ]
  },
  {
   "cell_type": "code",
   "execution_count": 4,
   "id": "e2ca0244-7aff-4d97-a63b-a57a2101bda6",
   "metadata": {},
   "outputs": [
    {
     "name": "stdout",
     "output_type": "stream",
     "text": [
      ">consensus\n",
      "MEMSQGFKSKPESMGLVDMSPSRSPVQTLRSTGYNRPEPAAAGKPQSTHPDSTSSSSRLRSMSSMSTSPPPQSPSMMMMASMMMMMMSPKKPFEVAIVGGGIAGLTLAIGLLRRGIPVTIYEQAPAFREIGAGVAFTPNAVRAMKLIDPRIYEAFEKVATRNVWPSKPNDWFRWVDGYNPDTKADDEEQELLFKLYAGERGFEGCHRAHFLDELVKLLPEGVVKFGKRLESIEEPEDSGKVVLHFADGTTAEADAVIGCDGIKSRVRQLLLGEDHPAAYPSYTHKYAYRGLIPMDKAVEALGEEKARNSCMHLGPGAHVLTFPVANGTLLNVVAFVSDPEEWPDEDKMTAPATREEALRDFAGWGPTVRKIISLLPEKLDKWAIFDLGDHPAPTYAKGRVCLAGDAAHASSPHHGAGAGMGIEDALVLATLLEQVSQDADGRVSKAEALEAAFQAYDAVRRERSQWLVQSSREAGDLYEWRDPGVGRDFEKIFEEIKERSHKIWDFDIEAMLREAREEYEKRLSASSGASQGRGVAKAGAGAGNANAAAGAVLVVECRAWSVDREIPLNETPQVVEKSPQPVYKKNDMVS\n",
      "\n"
     ]
    },
    {
     "name": "stderr",
     "output_type": "stream",
     "text": [
      "- 10:33:37.184 INFO: ../../si_data/extant_msa.fasta is in A2M, A3M or FASTA format\n",
      "\n",
      "\n"
     ]
    }
   ],
   "source": [
    "#Generate consensus sequence (consensus.fasta)\n",
    "os.system('rm ../consensus.fasta')\n",
    "os.system(f'conda run -n seq_struct_func hhconsensus -M 50 -i {extant_msa_path} -s ../consensus.fasta')\n",
    "os.system('sed -i \"1s/.*/>consensus/\" ../consensus.fasta')\n",
    "print(open('../consensus.fasta', 'r').read())"
   ]
  },
  {
   "cell_type": "code",
   "execution_count": 5,
   "id": "6c9e5220-601b-4bfc-adc5-a98555b45e9b",
   "metadata": {},
   "outputs": [],
   "source": [
    "#Apply AlphaFold2 pipeline to consensus sequence\n",
    "#Results for monomer model 1 with default parameters and full database for MSA generation in consensus_af2_results folder\n",
    "#See https://github.com/deepmind/alphafold for description of results"
   ]
  },
  {
   "cell_type": "code",
   "execution_count": 6,
   "id": "0804e821-218d-4bdd-a3bd-217e76988cbb",
   "metadata": {},
   "outputs": [],
   "source": [
    "#MSAs generated by AlphaFold2:\n",
    "consensus_dir = f'../consensus_af2_results'\n",
    "os.system(f'tar -xf {consensus_dir}/msas.tar.gz')
    "bfd_uniclust_msa_file = os.path.join(consensus_dir, 'msas/bfd_uniclust_hits.a3m') \n",
    "bfd_uniclust_fasta_msa_file = bfd_uniclust_msa_file.replace(\"a3m\", \"fas\")\n",
    "mgnify_msa_file = os.path.join(consensus_dir, 'msas/mgnify_hits.sto') \n",
    "uniref90_msa_file = os.path.join(consensus_dir, 'msas/uniref90_hits.sto') "
   ]
  },
  {
   "cell_type": "code",
   "execution_count": 7,
   "id": "3d9f39b5-ce45-47ec-8071-36bb594ef635",
   "metadata": {},
   "outputs": [
    {
     "name": "stdout",
     "output_type": "stream",
     "text": [
      "\n",
      "reformat.pl from HHsuite3\n",
      "Read a multiple alignment in one format and write it in another format\n",
      "Usage: reformat.pl [informat] [outformat] infile outfile [options] \n",
      "  or   reformat.pl [informat] [outformat] 'fileglob' .ext [options] \n",
      "\n",
      "Available input formats:\n",
      "   fas:     aligned fasta; lower and upper case equivalent, '.' and '-' equivalent\n",
      "   a2m:     aligned fasta; inserts: lower case, matches: upper case, deletes: '-',\n",
      "            gaps aligned to inserts: '.'\n",
      "   a3m:     like a2m, but gaps aligned to inserts MAY be omitted\n",
      "   sto:     Stockholm format; sequences in several blocks with sequence name at \n",
      "            beginning of line (hmmer output)\n",
      "   psi:     format as read by PSI-BLAST using the -B option (like sto with -M first -r)\n",
      "   clu:     Clustal format; sequences in several blocks with sequence name at beginning \n",
      "            of line\n",
      "Available output formats:\n",
      "   fas:     aligned fasta; all gaps '-'\n",
      "   a2m:     aligned fasta; inserts: lower case, matches: upper case, deletes: '-', gaps \n",
      "            aligned to inserts: '.'\n",
      "   a3m:     like a2m, but gaps aligned to inserts are omitted\n",
      "   sto:     Stockholm format; sequences in just one block, one line per sequence\n",
      "   psi:     format as read by PSI-BLAST using the -B option \n",
      "   clu:     Clustal format\n",
      "If no input or output format is given the file extension is interpreted as format \n",
      "specification ('aln' as 'clu')\n",
      "\n",
      "Options:\n",
      "  -v int    verbose mode (0:off, 1:on)\n",
      "  -num      add number prefix to sequence names: 'name', '1:name' '2:name' etc\n",
      "  -noss     remove secondary structure sequences (beginning with >ss_)\n",
      "  -sa       do not remove solvent accessibility sequences (beginning with >sa_)\n",
      "  -M first  make all columns with residue in first sequence match columns \n",
      "            (default for output format a2m or a3m)\n",
      "  -M int    make all columns with less than X% gaps match columns \n",
      "            (for output format a2m or a3m)\n",
      "  -r        remove all lower case residues (insert states) \n",
      "            (AFTER -M option has been processed)\n",
      "  -r int    remove all lower case columns with more than X% gaps\n",
      "  -g ''     suppress all gaps\n",
      "  -g '-'    write all gaps as '-'\n",
      "  -uc       write all residues in upper case (AFTER all other options have been processed)\n",
      "  -lc       write all residues in lower case (AFTER all other options have been processed)\n",
      "  -l        number of residues per line (for Clustal, FASTA, A2M, A3M formats) \n",
      "            (default=100)\n",
      "  -d        maximum number of characers in nameline (default=1000)\n",
      "\n",
      "Examples: reformat.pl 1hjra.a3m 1hjra.a2m  \n",
      "          (same as reformat.pl a3m a2m 1hjra.a3m 1hjra.a2m)\n",
      "          reformat.pl test.a3m test.fas -num -r 90\n",
      "          reformat.pl fas sto '*.fasta' .stockholm\n",
      "\n"
     ]
    }
   ],
   "source": [
    "#Use reformat.pl from HH-suite3 to reformat all a3m to fasta for biopython\n",
    "!./reformat.pl"
   ]
  },
  {
   "cell_type": "code",
   "execution_count": 8,
   "id": "0ace63e3-1887-47c7-a222-0969d01ad0f4",
   "metadata": {},
   "outputs": [
    {
     "name": "stdout",
     "output_type": "stream",
     "text": [
      "1 files to reformat\n",
      "inserting gaps...\n",
      "Reformatted ../consensus_af2_results/msas/bfd_uniclust_hits.a3m with 5248 sequences from a3m to fas and written to file ../consensus_af2_results/msas/bfd_uniclust_hits.fas\n"
     ]
    }
   ],
   "source": [
    "#convert a3m to fasta for biopython\n",
    "out = os.system(f'./reformat.pl a3m fas {bfd_uniclust_msa_file} {bfd_uniclust_fasta_msa_file}')"
   ]
  },
  {
   "cell_type": "code",
   "execution_count": 9,
   "id": "34192637-a1df-4039-9dd1-3ce5b02ac42a",
   "metadata": {},
   "outputs": [],
   "source": [
    "#Parse all MSAs with biopython AlignIO\n",
    "mgnify_align  = AlignIO.read(mgnify_msa_file, 'stockholm')\n",
    "uniref90_align = AlignIO.read(uniref90_msa_file, 'stockholm')\n",
    "bfd_uniclust_align = AlignIO.read(bfd_uniclust_fasta_msa_file, 'fasta')"
   ]
  },
  {
   "cell_type": "code",
   "execution_count": 10,
   "id": "3106a84e-2a2b-4cbd-a046-1b3149d0995b",
   "metadata": {},
   "outputs": [],
   "source": [
    "#Append all fasta together as string\n",
    "all_fasta = ''\n",
    "\n",
    "def append_fasta(all_fasta, alignment):\n",
    "    for record in alignment:\n",
    "        if record.id == 'consensus':\n",
    "            continue\n",
    "        all_fasta += f'>{record.id}\\n{str(record.seq).replace(\"-\", \"\")}\\n'\n",
    "    \n",
    "    return all_fasta\n",
    "\n",
    "all_fasta = append_fasta(all_fasta, mgnify_align)\n",
    "all_fasta = append_fasta(all_fasta, uniref90_align)\n",
    "all_fasta = append_fasta(all_fasta, bfd_uniclust_align)"
   ]
  },
  {
   "cell_type": "code",
   "execution_count": 11,
   "id": "7daaa1ea-ae0c-48f9-8b06-968c7c982eaf",
   "metadata": {},
   "outputs": [],
   "source": [
    "#Write to file\n",
    "with open('../consensus_db.fasta', 'w') as f:\n",
    "    f.write(all_fasta)"
   ]
  }
 ],
 "metadata": {
  "kernelspec": {
   "display_name": "seq_struct_func",
   "language": "python",
   "name": "seq_struct_func"
  },
  "language_info": {
   "codemirror_mode": {
    "name": "ipython",
    "version": 3
   },
   "file_extension": ".py",
   "mimetype": "text/x-python",
   "name": "python",
   "nbconvert_exporter": "python",
   "pygments_lexer": "ipython3",
   "version": "3.10.8"
  }
 },
 "nbformat": 4,
 "nbformat_minor": 5
}
